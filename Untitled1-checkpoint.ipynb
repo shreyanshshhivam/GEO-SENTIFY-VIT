{
 "cells": [
  {
   "cell_type": "code",
   "execution_count": null,
   "id": "d400b07c-cedb-4be0-9ffa-207811d08f7b",
   "metadata": {},
   "outputs": [],
   "source": []
  }
 ],
 "metadata": {
  "kernelspec": {
   "display_name": "Python 3 (ipykernel)",
   "language": "python",
   "name": "python3"
  },
  "language_info": {
   "codemirror_mode": {
    "name": "ipython",
    "version": 3
   },
   "file_extension": ".py",
   "mimetype": "text/x-python",
   "name": "python",
   "nbconvert_exporter": "python",
   "pygments_lexer": "ipython3",
   "version": "3.12.3"
  }
 },
 "nbformat": 4,
 "nbformat_minor": 5
}
