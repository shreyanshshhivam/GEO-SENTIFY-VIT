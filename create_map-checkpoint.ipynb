{
 "cells": [
  {
   "cell_type": "code",
   "execution_count": 1,
   "id": "0e76203f-b847-46b2-a3d1-393d7ee077bc",
   "metadata": {},
   "outputs": [
    {
     "name": "stdout",
     "output_type": "stream",
     "text": [
      "Collecting folium\n",
      "  Downloading folium-0.20.0-py2.py3-none-any.whl.metadata (4.2 kB)\n",
      "Collecting branca>=0.6.0 (from folium)\n",
      "  Downloading branca-0.8.1-py3-none-any.whl.metadata (1.5 kB)\n",
      "Requirement already satisfied: jinja2>=2.9 in c:\\users\\shrey\\anaconda3\\lib\\site-packages (from folium) (3.1.4)\n",
      "Requirement already satisfied: numpy in c:\\users\\shrey\\anaconda3\\lib\\site-packages (from folium) (1.26.4)\n",
      "Requirement already satisfied: requests in c:\\users\\shrey\\anaconda3\\lib\\site-packages (from folium) (2.32.2)\n",
      "Requirement already satisfied: xyzservices in c:\\users\\shrey\\anaconda3\\lib\\site-packages (from folium) (2022.9.0)\n",
      "Requirement already satisfied: MarkupSafe>=2.0 in c:\\users\\shrey\\anaconda3\\lib\\site-packages (from jinja2>=2.9->folium) (2.1.3)\n",
      "Requirement already satisfied: charset-normalizer<4,>=2 in c:\\users\\shrey\\anaconda3\\lib\\site-packages (from requests->folium) (2.0.4)\n",
      "Requirement already satisfied: idna<4,>=2.5 in c:\\users\\shrey\\anaconda3\\lib\\site-packages (from requests->folium) (3.7)\n",
      "Requirement already satisfied: urllib3<3,>=1.21.1 in c:\\users\\shrey\\anaconda3\\lib\\site-packages (from requests->folium) (2.2.2)\n",
      "Requirement already satisfied: certifi>=2017.4.17 in c:\\users\\shrey\\anaconda3\\lib\\site-packages (from requests->folium) (2024.8.30)\n",
      "Downloading folium-0.20.0-py2.py3-none-any.whl (113 kB)\n",
      "   ---------------------------------------- 0.0/113.4 kB ? eta -:--:--\n",
      "   ---------------------------------------- 0.0/113.4 kB ? eta -:--:--\n",
      "   ---------------------------------------- 0.0/113.4 kB ? eta -:--:--\n",
      "   --- ------------------------------------ 10.2/113.4 kB ? eta -:--:--\n",
      "   --------------------- ----------------- 61.4/113.4 kB 656.4 kB/s eta 0:00:01\n",
      "   --------------------- ----------------- 61.4/113.4 kB 656.4 kB/s eta 0:00:01\n",
      "   -------------------------------------  112.6/113.4 kB 595.3 kB/s eta 0:00:01\n",
      "   -------------------------------------- 113.4/113.4 kB 508.1 kB/s eta 0:00:00\n",
      "Downloading branca-0.8.1-py3-none-any.whl (26 kB)\n",
      "Installing collected packages: branca, folium\n",
      "Successfully installed branca-0.8.1 folium-0.20.0\n"
     ]
    }
   ],
   "source": [
    "!pip install folium"
   ]
  },
  {
   "cell_type": "code",
   "execution_count": 3,
   "id": "b10c51ee-3039-453a-aba1-f34ff6f801bc",
   "metadata": {},
   "outputs": [
    {
     "name": "stdout",
     "output_type": "stream",
     "text": [
      "--- Phase 4: Visualization Implementation ---\n",
      "Successfully loaded 'vit_feedback_with_sentiment.csv'.\n",
      "Base map created.\n",
      "Added sentiment markers to the map.\n",
      "Added heatmap layer.\n",
      "\n",
      "Map has been saved to 'sentiment_map.html'.\n",
      "Open this file in a web browser to view the interactive map.\n",
      "\n",
      "Phase 4 completed successfully.\n"
     ]
    }
   ],
   "source": [
    "import pandas as pd\n",
    "import folium\n",
    "from folium.plugins import HeatMap\n",
    "\n",
    "def create_sentiment_map(data_file):\n",
    "    try:\n",
    "        df = pd.read_csv(data_file)\n",
    "        print(f\"Successfully loaded '{data_file}'.\")\n",
    "    except FileNotFoundError:\n",
    "        print(f\"Error: The file '{data_file}' was not found. Please run the Phase 3 script first.\")\n",
    "        return\n",
    "\n",
    "    map_center_lat = df['latitude'].mean()\n",
    "    map_center_lon = df['longitude'].mean()\n",
    "    \n",
    "    sentiment_map = folium.Map(location=[map_center_lat, map_center_lon], zoom_start=16)\n",
    "    print(\"Base map created.\")\n",
    "\n",
    "    def get_color(sentiment):\n",
    "        if sentiment == 'POSITIVE':\n",
    "            return 'green'\n",
    "        elif sentiment == 'NEGATIVE':\n",
    "            return 'red'\n",
    "        else:\n",
    "            return 'gray'\n",
    "\n",
    "    for idx, row in df.iterrows():\n",
    "        folium.Marker(\n",
    "            location=[row['latitude'], row['longitude']],\n",
    "            popup=f\"Feedback: {row['feedback_text']}\",\n",
    "            tooltip=row['sentiment'],\n",
    "            icon=folium.Icon(color=get_color(row['sentiment']), icon='info-sign')\n",
    "        ).add_to(sentiment_map)\n",
    "    \n",
    "    print(\"Added sentiment markers to the map.\")\n",
    "\n",
    "    heat_data = [[row['latitude'], row['longitude']] for index, row in df.iterrows()]\n",
    "    HeatMap(heat_data).add_to(sentiment_map)\n",
    "    print(\"Added heatmap layer.\")\n",
    "\n",
    "    output_filename = \"sentiment_map.html\"\n",
    "    sentiment_map.save(output_filename)\n",
    "    print(f\"\\nMap has been saved to '{output_filename}'.\")\n",
    "    print(\"Open this file in a web browser to view the interactive map.\")\n",
    "\n",
    "if __name__ == \"__main__\":\n",
    "    print(\"--- Phase 4: Visualization Implementation ---\")\n",
    "    input_csv = \"vit_feedback_with_sentiment.csv\"\n",
    "    create_sentiment_map(input_csv)\n",
    "    print(\"\\nPhase 4 completed successfully.\")"
   ]
  },
  {
   "cell_type": "code",
   "execution_count": null,
   "id": "16da94d3-5888-4846-b71f-4935348ce894",
   "metadata": {},
   "outputs": [],
   "source": []
  }
 ],
 "metadata": {
  "kernelspec": {
   "display_name": "Python 3 (ipykernel)",
   "language": "python",
   "name": "python3"
  },
  "language_info": {
   "codemirror_mode": {
    "name": "ipython",
    "version": 3
   },
   "file_extension": ".py",
   "mimetype": "text/x-python",
   "name": "python",
   "nbconvert_exporter": "python",
   "pygments_lexer": "ipython3",
   "version": "3.12.3"
  }
 },
 "nbformat": 4,
 "nbformat_minor": 5
}
