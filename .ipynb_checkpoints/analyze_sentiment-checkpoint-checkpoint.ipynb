{
 "cells": [
  {
   "cell_type": "code",
   "execution_count": 1,
   "id": "435eb1ce-0b5f-41bc-a3b0-d41d6c38f846",
   "metadata": {},
   "outputs": [
    {
     "name": "stdout",
     "output_type": "stream",
     "text": [
      "Successfully loaded 'vitv_feedback.csv'.\n",
      "Analyzing sentiment for each feedback entry...\n",
      "\n",
      "--- Sentiment Analysis Complete ---\n",
      "Displaying original text with its assigned sentiment:\n",
      "          location_name                                                                     feedback_text sentiment\n",
      "0  Silver Jubilee Tower             The library in SJT is amazing, so quiet and has all the books I need.  POSITIVE\n",
      "1                Foodys      The service at Foodys is too slow during peak hours, but the food is decent.   NEUTRAL\n",
      "2      Technology Tower      Wi-Fi in TT is unreliable. It disconnects frequently during my lab sessions.   NEUTRAL\n",
      "3       Anna Auditorium    Attended a great event at Anna Auditorium. The sound system was crystal clear.  POSITIVE\n",
      "4       G D Naidu Block                           The classrooms in GDN are well-maintained and spacious.   NEUTRAL\n",
      "5                Foodys                    I wish Foodys had more healthy options. It's mostly fast food.  POSITIVE\n",
      "6  Silver Jubilee Tower  Finding a free study spot in SJT during exams is nearly impossible. Too crowded.  POSITIVE\n",
      "7      Technology Tower      The lab equipment in TT is outdated. We need an upgrade for our experiments.   NEUTRAL\n",
      "\n",
      "Results have been saved to 'vit_feedback_with_sentiment.csv'.\n",
      "\n",
      "Phase 3 completed successfully.\n"
     ]
    }
   ],
   "source": [
    "import pandas as pd\n",
    "from vaderSentiment.vaderSentiment import SentimentIntensityAnalyzer\n",
    "\n",
    "\n",
    "csv_filename = \"vitv_feedback.csv\"\n",
    "try:\n",
    "    df = pd.read_csv(csv_filename)\n",
    "    print(\"Successfully loaded 'vitv_feedback.csv'.\")\n",
    "except FileNotFoundError:\n",
    "    print(f\"Error: The file '{csv_filename}' was not found. Please run the Phase 2 script first.\")\n",
    "    exit()\n",
    "\n",
    "\n",
    "analyzer = SentimentIntensityAnalyzer()\n",
    "\n",
    "def get_sentiment(text):\n",
    "\n",
    "\n",
    "    scores = analyzer.polarity_scores(text)\n",
    "    compound_score = scores['compound']\n",
    "    \n",
    "\n",
    "    if compound_score >= 0.05:\n",
    "        return 'POSITIVE'\n",
    "   \n",
    "    elif compound_score <= -0.05:\n",
    "        return 'NEGATIVE'\n",
    "\n",
    "    else:\n",
    "        return 'NEUTRAL'\n",
    "\n",
    "\n",
    "print(\"Analyzing sentiment for each feedback entry...\")\n",
    "df['sentiment'] = df['feedback_text'].apply(get_sentiment)\n",
    "\n",
    "\n",
    "print(\"\\n--- Sentiment Analysis Complete ---\")\n",
    "print(\"Displaying original text with its assigned sentiment:\")\n",
    "\n",
    "\n",
    "print(df[['location_name', 'feedback_text', 'sentiment']].to_string())\n",
    "\n",
    "\n",
    "output_filename = \"vit_feedback_with_sentiment.csv\"\n",
    "df.to_csv(output_filename, index=False)\n",
    "print(f\"\\nResults have been saved to '{output_filename}'.\")\n",
    "\n",
    "print(\"\\nPhase 3 completed successfully.\")"
   ]
  },
  {
   "cell_type": "code",
   "execution_count": null,
   "id": "be3a72fc-27e7-469a-b6fb-51ef66a5c00c",
   "metadata": {},
   "outputs": [],
   "source": []
  }
 ],
 "metadata": {
  "kernelspec": {
   "display_name": "Python 3 (ipykernel)",
   "language": "python",
   "name": "python3"
  },
  "language_info": {
   "codemirror_mode": {
    "name": "ipython",
    "version": 3
   },
   "file_extension": ".py",
   "mimetype": "text/x-python",
   "name": "python",
   "nbconvert_exporter": "python",
   "pygments_lexer": "ipython3",
   "version": "3.12.3"
  }
 },
 "nbformat": 4,
 "nbformat_minor": 5
}
